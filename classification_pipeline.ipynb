{
 "cells": [
  {
   "cell_type": "code",
   "execution_count": 1,
   "metadata": {},
   "outputs": [],
   "source": [
    "import pandas as pd\n",
    "import numpy as np\n",
    "import matplotlib.pyplot as plt\n",
    "import warnings\n",
    "import datetime\n",
    "\n",
    "from sklearn.preprocessing import *\n",
    "from sklearn.model_selection import *\n",
    "from sklearn.metrics import *\n",
    "from imblearn.under_sampling import *\n",
    "from imblearn.over_sampling import *\n",
    "from scipy.stats import *\n",
    "from catboost import *\n",
    "from catboost.utils import *\n",
    "\n",
    "le = LabelEncoder()\n",
    "scaler = MinMaxScaler()\n",
    "\n",
    "warnings.filterwarnings('ignore')\n",
    "pd.set_option('display.max_rows',None)\n",
    "pd.set_option('display.max_columns',None)"
   ]
  },
  {
   "cell_type": "markdown",
   "metadata": {},
   "source": [
    "# Introduzione\n",
    "\n",
    "Il lavoro svolto di seguito parte da un dataset di cui non si conosce il significato delle features e il corretto formato. Tuttavia pare evidente essere di fronte ad un dataset strutturato con sia dati numerici che categorici, dato anche il soggetto da cui arriva il dataset (una società assicurativa) e lo scopo \n",
    "dell'analisi. \n",
    "\n",
    "Per questo motivo ho ritenuto importante investigare quali delle features presenti possono essere effettivamente numeriche o \n",
    "categoriche, in modo da scegliere il corretto algoritmo e applicare le tecniche di riempimento dei valori nulli e le riscalutare più consone."
   ]
  },
  {
   "cell_type": "markdown",
   "metadata": {},
   "source": [
    "# 1.0 Data retrival\n",
    "\n",
    "Carico i due dataset e li metto insieme (togliendo la variabile di risposta) per fare subito il preprocessing sulle X del train e del test set. Il modello poi sarà trainato solo sulle x del train, e la predict sarà effettuata sulle X del test, già processate."
   ]
  },
  {
   "cell_type": "code",
   "execution_count": 2,
   "metadata": {},
   "outputs": [],
   "source": [
    "df = pd.read_csv('train_set.zip', compression='zip',low_memory=False)\n",
    "test = pd.read_csv('test_set.zip', compression='zip',low_memory=False)\n",
    "\n",
    "y = df[['target']]\n",
    "df = df.drop(columns='target')\n",
    "\n",
    "df = df.append(test)\n",
    "df = df.drop(columns='index')"
   ]
  },
  {
   "cell_type": "markdown",
   "metadata": {},
   "source": [
    "# 2.0 Preprocessing"
   ]
  },
  {
   "cell_type": "markdown",
   "metadata": {},
   "source": [
    "## 2.1 Colonne con NaN\n",
    "\n",
    "Elimino dal dataset le colonne che presentano valori nulli per oltre il 50% dei dati presenti."
   ]
  },
  {
   "cell_type": "code",
   "execution_count": 3,
   "metadata": {},
   "outputs": [],
   "source": [
    "df = df.loc[:, df.isnull().mean() < .5]"
   ]
  },
  {
   "cell_type": "code",
   "execution_count": 4,
   "metadata": {},
   "outputs": [
    {
     "name": "stdout",
     "output_type": "stream",
     "text": [
      "<class 'pandas.core.frame.DataFrame'>\n",
      "Int64Index: 20000 entries, 0 to 9999\n",
      "Columns: 294 entries, feature_0 to feature_294\n",
      "dtypes: float64(212), int64(75), object(7)\n",
      "memory usage: 45.0+ MB\n"
     ]
    }
   ],
   "source": [
    "df.info()"
   ]
  },
  {
   "cell_type": "markdown",
   "metadata": {},
   "source": [
    "## 2.2 Colonne con lettere/stringhe\n",
    "\n",
    "Su queste features utilizzo il label encoder (anche se non sono labels) per tradurre il valore da lettera a \"numero\", dopo aver riempito i valori nulli con il valore più frequente."
   ]
  },
  {
   "cell_type": "code",
   "execution_count": 5,
   "metadata": {},
   "outputs": [
    {
     "name": "stdout",
     "output_type": "stream",
     "text": [
      "<class 'pandas.core.frame.DataFrame'>\n",
      "Int64Index: 20000 entries, 0 to 9999\n",
      "Columns: 294 entries, feature_0 to feature_294\n",
      "dtypes: float64(212), int32(7), int64(75)\n",
      "memory usage: 44.5 MB\n"
     ]
    }
   ],
   "source": [
    "ob = df.select_dtypes(include='object')\n",
    "\n",
    "for i in ob.columns:\n",
    "    ob[i] = ob[i].fillna(ob[i].mode()[0])\n",
    "\n",
    "ob = ob.astype('str')\n",
    "\n",
    "for i in ob.columns:\n",
    "    le.fit(ob[i])\n",
    "    ob[i] = le.transform(ob[i])\n",
    "\n",
    "for i in ob.columns:\n",
    "    df[i] = ob[i]\n",
    "\n",
    "df.info()"
   ]
  },
  {
   "cell_type": "markdown",
   "metadata": {},
   "source": [
    "## 2.2 Colonne fittiziamente numeriche\n",
    "\n",
    "Ci sono alcune colonne che presentano valori numerici ma in realtà sembrano delle codifiche di variabili categoriche o simili. Ho notato che le effettive numeriche sono del tipo: 0.34534443.\n",
    "Quelle dubbie invece sono: 0,0.5,1,2,3,ecc... Così facendo vado a vedere per ogni colonna i suoi valori univoci e mi trovo il valore con più cifre. Se il valore con più cifre è inferiore ad\n",
    "una data soglia (3 in questo caso) lo faccio diventare una categorica."
   ]
  },
  {
   "cell_type": "code",
   "execution_count": 6,
   "metadata": {},
   "outputs": [
    {
     "name": "stdout",
     "output_type": "stream",
     "text": [
      "<class 'pandas.core.frame.DataFrame'>\n",
      "Int64Index: 20000 entries, 0 to 9999\n",
      "Columns: 294 entries, feature_0 to feature_294\n",
      "dtypes: float64(202), int32(7), int64(75), object(10)\n",
      "memory usage: 44.5+ MB\n"
     ]
    }
   ],
   "source": [
    "num = df.select_dtypes(include='float64')\n",
    "num = num.astype('str')\n",
    "\n",
    "for i in num.columns:\n",
    "    if len(max(list(num[i]),key=len))<=3:\n",
    "        num[i] = num[i].astype('object')\n",
    "    else:\n",
    "        num[i] = num[i].astype('float')\n",
    "\n",
    "for i in num.columns:\n",
    "    df[i] = num[i]\n",
    "df.info()"
   ]
  },
  {
   "cell_type": "markdown",
   "metadata": {},
   "source": [
    "## 2.3 Finti interi\n",
    "\n",
    "Le features con type \"int\" presentano valori interi \"sospetti\": 0,1,ecc... Queste le considero categoriche, ad esclusione di alcune che presentano una possibile \"ordinalità\" che tengo numeriche."
   ]
  },
  {
   "cell_type": "code",
   "execution_count": 7,
   "metadata": {},
   "outputs": [],
   "source": [
    "n = ['feature_1','feature_8','feature_12','feature_16','feature_17']"
   ]
  },
  {
   "cell_type": "code",
   "execution_count": 8,
   "metadata": {},
   "outputs": [
    {
     "name": "stdout",
     "output_type": "stream",
     "text": [
      "<class 'pandas.core.frame.DataFrame'>\n",
      "Int64Index: 20000 entries, 0 to 9999\n",
      "Columns: 294 entries, feature_0 to feature_294\n",
      "dtypes: float64(207), object(87)\n",
      "memory usage: 45.0+ MB\n"
     ]
    }
   ],
   "source": [
    "for i in df.columns:\n",
    "    if ((df[i].dtype == 'int32') | (df[i].dtype == 'int64')) and i not in n:\n",
    "        df[i] = df[i].astype('object')\n",
    "    elif i in n:\n",
    "        df[i] = df[i].astype('float64')\n",
    "df.info()"
   ]
  },
  {
   "cell_type": "markdown",
   "metadata": {},
   "source": [
    "## 2.4 Check sulle numeriche\n",
    "\n",
    "Ultimo check sulle numeriche rimaste: quelle che presentano pochi valori univoci le faccio diventare categoriche."
   ]
  },
  {
   "cell_type": "code",
   "execution_count": 9,
   "metadata": {},
   "outputs": [
    {
     "name": "stdout",
     "output_type": "stream",
     "text": [
      "<class 'pandas.core.frame.DataFrame'>\n",
      "Int64Index: 20000 entries, 0 to 9999\n",
      "Columns: 294 entries, feature_0 to feature_294\n",
      "dtypes: float64(206), object(88)\n",
      "memory usage: 45.0+ MB\n"
     ]
    }
   ],
   "source": [
    "for i in df.columns:\n",
    "    if (df[i].nunique() < 3):\n",
    "        df[i] = df[i].astype('object')\n",
    "df.info()"
   ]
  },
  {
   "cell_type": "markdown",
   "metadata": {},
   "source": [
    "## 2.5 Categoriche\n",
    "\n",
    "Per le variabili categoriche ho deciso di escludere quelle che presentano un solo valore (non aggiunge informazione all'algortimo) e quelle che presentano più di 20 valori (una di queste pare essere il CAP o qualcosa del genere).\n",
    "\n",
    "Una volta effettuate queste operazioni, ricontrollando le \"rimanenti\" categoriche mi accorgo che alcune possono essere considerate numeriche (dato più utile al \n",
    "classificatore) e quindi le trasformo in numeriche."
   ]
  },
  {
   "cell_type": "code",
   "execution_count": 10,
   "metadata": {},
   "outputs": [],
   "source": [
    "cat = df.select_dtypes(include='object')"
   ]
  },
  {
   "cell_type": "code",
   "execution_count": 11,
   "metadata": {},
   "outputs": [
    {
     "data": {
      "text/plain": [
       "(20000, 31)"
      ]
     },
     "execution_count": 11,
     "metadata": {},
     "output_type": "execute_result"
    }
   ],
   "source": [
    "cat = cat.loc[:, cat.nunique()>1]\n",
    "cat = cat.loc[:, cat.nunique()<20]\n",
    "cat.shape"
   ]
  },
  {
   "cell_type": "code",
   "execution_count": 12,
   "metadata": {},
   "outputs": [
    {
     "data": {
      "text/plain": [
       "(20000, 20)"
      ]
     },
     "execution_count": 12,
     "metadata": {},
     "output_type": "execute_result"
    }
   ],
   "source": [
    "for i in cat:\n",
    "    if cat[i].nunique()>3:\n",
    "        cat[i] = cat[i].astype('float64')\n",
    "cat = cat.select_dtypes(include='object')\n",
    "cat.shape"
   ]
  },
  {
   "cell_type": "markdown",
   "metadata": {},
   "source": [
    "## 2.6 Numeriche\n",
    "\n",
    "Creo il dataset delle sole numeriche rimaste dopo la pulizia dei NaN eccessivi e delle categoriche. Per riempire i valori nulli delle numeriche ho deciso di avvalermi di statistiche descrittive base: ho guardato il valore dell'assimetria per ogni colonna e se questa presentava un valore oltre una data soglia (3,-3) ho riempito con la moda (data la forte asimmetria dei dati nella colonna), viceversa con la mediana per le variabili più gaussiane."
   ]
  },
  {
   "cell_type": "code",
   "execution_count": 13,
   "metadata": {},
   "outputs": [],
   "source": [
    "df_mice = pd.concat([df.select_dtypes(include='float64'),cat.select_dtypes(include='float64')],axis=1)"
   ]
  },
  {
   "cell_type": "code",
   "execution_count": 14,
   "metadata": {},
   "outputs": [],
   "source": [
    "for i in df_mice.columns:\n",
    "    if (df_mice[i].skew()>=3) | (df_mice[i].skew()<=-3):\n",
    "        df_mice[i] = df_mice[i].fillna(df_mice[i].mode()[0])\n",
    "    else:\n",
    "        df_mice[i] = df_mice[i].fillna(df_mice[i].median())"
   ]
  },
  {
   "cell_type": "markdown",
   "metadata": {},
   "source": [
    "## 2.7 Riscalatura"
   ]
  },
  {
   "cell_type": "markdown",
   "metadata": {},
   "source": [
    "Uniformo le variabili numeriche tra 0 e 1 con una riscalatura semplice."
   ]
  },
  {
   "cell_type": "code",
   "execution_count": 15,
   "metadata": {},
   "outputs": [
    {
     "data": {
      "text/plain": [
       "(20000, 206)"
      ]
     },
     "execution_count": 15,
     "metadata": {},
     "output_type": "execute_result"
    }
   ],
   "source": [
    "scaler.fit(df_mice)\n",
    "df_mice_scaled = scaler.transform(df_mice)\n",
    "df_mice_scaled = pd.DataFrame(df_mice_scaled,columns=df_mice.columns)\n",
    "df_mice_scaled.shape"
   ]
  },
  {
   "cell_type": "markdown",
   "metadata": {},
   "source": [
    "Elimino le colonne che presentano un livello di correlazione superiore al 75%"
   ]
  },
  {
   "cell_type": "code",
   "execution_count": 16,
   "metadata": {},
   "outputs": [
    {
     "data": {
      "text/plain": [
       "(20000, 102)"
      ]
     },
     "execution_count": 16,
     "metadata": {},
     "output_type": "execute_result"
    }
   ],
   "source": [
    "corr_matrix = df_mice_scaled.corr().abs()\n",
    "upper = corr_matrix.where(np.triu(np.ones(corr_matrix.shape), k=1).astype(np.bool))\n",
    "to_drop = [column for column in upper.columns if any(upper[column] > 0.75)]\n",
    "df_mice_scaled = df_mice_scaled.drop(df_mice_scaled[to_drop], axis=1)\n",
    "df_mice_scaled.shape"
   ]
  },
  {
   "cell_type": "markdown",
   "metadata": {},
   "source": [
    "## 2.8 Unione dataset"
   ]
  },
  {
   "cell_type": "markdown",
   "metadata": {},
   "source": [
    "Creo il dataset finale da utilizzare per il classificatore."
   ]
  },
  {
   "cell_type": "code",
   "execution_count": 17,
   "metadata": {},
   "outputs": [
    {
     "data": {
      "text/plain": [
       "(20000, 124)"
      ]
     },
     "execution_count": 17,
     "metadata": {},
     "output_type": "execute_result"
    }
   ],
   "source": [
    "df_mice_scaled = df_mice_scaled.reset_index()\n",
    "cat = cat.reset_index()\n",
    "dff = pd.concat([df_mice_scaled,cat],axis=1)\n",
    "dff.shape"
   ]
  },
  {
   "cell_type": "markdown",
   "metadata": {},
   "source": [
    "# 3.0 Modelling"
   ]
  },
  {
   "cell_type": "markdown",
   "metadata": {},
   "source": [
    "Dato che il dataset finale è composto sia da variabili numeriche che da variabili categoriche ho deciso di avvalermi di un modello che non \n",
    "fosse una \"black-box\" (come il caso di una rete neurale) ma di un modello più \"comprensibile\", in grado di trattare i dati presenti. Immaginando il possibile obiettivo di business dell'analisi, sapere quali \"features\" sono più determinanti nell'individuare un possibile cliente pronto all'abbandono può essere decisamente \n",
    "utile. Utilizzando una black-box quest'informzione non è sempre disponibile.\n",
    "\n",
    "La scelta dell'algoritmo\n",
    "è ricaduta su \"CatBoost\" un modello di classificazione basato sul boosting di alberi di decisione in grado di lavorare sia sui dati numerici\n",
    "che sui dati categorici (applicando tecniche potenzialmente più informative del classico \"one-hot-encoding\")."
   ]
  },
  {
   "cell_type": "code",
   "execution_count": 18,
   "metadata": {},
   "outputs": [],
   "source": [
    "train_i = dff.head(10000)\n",
    "test_f = dff.tail(10000)\n",
    "train_i = train_i.drop(columns=['index'])\n",
    "test_f = test_f.drop(columns=['index'])\n",
    "train_i = pd.concat([train_i,y],axis=1)"
   ]
  },
  {
   "cell_type": "markdown",
   "metadata": {},
   "source": [
    "## 3.1 Classi sbilanciate?"
   ]
  },
  {
   "cell_type": "markdown",
   "metadata": {},
   "source": [
    "La classe oggetto di predizione presenta uno sbilanciamento. Questo aspetto se non trattato non permette all'algortimo di generalizzare a \n",
    "sufficienza, finendo quindi con l'imparare a riconoscere solo la classe maggioritaria. Come trattare questo aspetto?\n",
    "\n",
    "La scelta è ricadauta sull'effettuare l'undersample della classe maggiormente presente, portandola circa al livello della classe meno presente.\n",
    "Ho scelto questa soluzione perché ho ritenuto l'oversample una fonte di overfitting evitabile (anche con l'introduzione di dati \"sinteci\" \n",
    "tramie lo SMOTE)."
   ]
  },
  {
   "cell_type": "code",
   "execution_count": 19,
   "metadata": {},
   "outputs": [
    {
     "data": {
      "text/plain": [
       "0    1364\n",
       "1    1228\n",
       "Name: target, dtype: int64"
      ]
     },
     "execution_count": 19,
     "metadata": {},
     "output_type": "execute_result"
    }
   ],
   "source": [
    "X = train_i.drop(columns=['target'])\n",
    "y = train_i[['target']].astype(int)\n",
    "\n",
    "rus = RandomUnderSampler(sampling_strategy=0.9)\n",
    "X_resampled, y_resampled = rus.fit_resample(X,y)\n",
    "\n",
    "df_all = pd.concat([X_resampled,y_resampled],axis=1)\n",
    "df_all = df_all.sample(frac=1)\n",
    "\n",
    "df_all.target.value_counts()"
   ]
  },
  {
   "cell_type": "markdown",
   "metadata": {},
   "source": [
    "## 3.2 Model\n",
    "\n",
    "Divido in 3 parti il dataset finale per effetuare l'analisi e la valutazione."
   ]
  },
  {
   "cell_type": "code",
   "execution_count": 20,
   "metadata": {},
   "outputs": [],
   "source": [
    "for i in df_all.columns:\n",
    "    if df_all[i].dtypes =='object':\n",
    "        df_all[i] = df_all[i].astype('str')"
   ]
  },
  {
   "cell_type": "code",
   "execution_count": 21,
   "metadata": {},
   "outputs": [],
   "source": [
    "train, validate, test = np.split(df_all.sample(frac=1), [int(.7*len(df_all)), int(.85*len(df_all))])"
   ]
  },
  {
   "cell_type": "code",
   "execution_count": 22,
   "metadata": {},
   "outputs": [],
   "source": [
    "x_train = train.drop(columns=['target'])\n",
    "y_train = train[['target']]\n",
    "x_val = validate.drop(columns=['target'])\n",
    "y_val = validate[['target']]\n",
    "x_test = test.drop(columns=['target'])\n",
    "y_test = test[['target']]"
   ]
  },
  {
   "cell_type": "markdown",
   "metadata": {},
   "source": [
    "### 3.2.1 Catboost"
   ]
  },
  {
   "cell_type": "code",
   "execution_count": 23,
   "metadata": {},
   "outputs": [
    {
     "name": "stdout",
     "output_type": "stream",
     "text": [
      "Learning rate set to 0.061979\n",
      "0:\tlearn: 0.5208776\ttest: 0.4593640\tbest: 0.4593640 (0)\ttotal: 210ms\tremaining: 1m 2s\n",
      "100:\tlearn: 0.8274174\ttest: 0.5828221\tbest: 0.6073620 (88)\ttotal: 3.11s\tremaining: 6.13s\n",
      "200:\tlearn: 0.9651506\ttest: 0.5531915\tbest: 0.6073620 (88)\ttotal: 5.67s\tremaining: 2.79s\n",
      "299:\tlearn: 0.9982384\ttest: 0.5443787\tbest: 0.6073620 (88)\ttotal: 8.23s\tremaining: 0us\n",
      "\n",
      "bestTest = 0.6073619632\n",
      "bestIteration = 88\n",
      "\n",
      "Shrink model to first 89 iterations.\n"
     ]
    },
    {
     "data": {
      "text/plain": [
       "<catboost.core.CatBoostClassifier at 0x28254005a58>"
      ]
     },
     "execution_count": 23,
     "metadata": {},
     "output_type": "execute_result"
    }
   ],
   "source": [
    "categorical_features_indices1 = np.where(x_train.dtypes != np.float64)[0]\n",
    "model = CatBoostClassifier(iterations=300,eval_metric='F1',loss_function='Logloss',random_seed=6)\n",
    "model.fit(x_train, y_train, cat_features=categorical_features_indices1, verbose=100,eval_set=(x_val,y_val),plot=False)"
   ]
  },
  {
   "cell_type": "markdown",
   "metadata": {},
   "source": [
    "La differenza tra i risultati del train e del validation/test set evidenzia come sia presente dell'overfitting nel modello, non riuscendo a \n",
    "generalizzare adeguatamente, ma dato lo scopo del modello e le poche informazioni disponibili ritengo sia un risultato soddisfacente."
   ]
  },
  {
   "cell_type": "code",
   "execution_count": 24,
   "metadata": {},
   "outputs": [
    {
     "name": "stdout",
     "output_type": "stream",
     "text": [
      "Model Train F1: 0.8085889570552148\n",
      "Model Validation F1: 0.6073619631901841\n",
      "---------------------------------------------\n",
      "Model Test F1: 0.6218487394957984\n",
      "Model Classification Report\n",
      "              precision    recall  f1-score   support\n",
      "\n",
      "           0       0.62      0.74      0.68       192\n",
      "           1       0.69      0.56      0.62       197\n",
      "\n",
      "    accuracy                           0.65       389\n",
      "   macro avg       0.66      0.65      0.65       389\n",
      "weighted avg       0.66      0.65      0.65       389\n",
      "\n",
      "---------------------------------------------\n",
      "Model Confusion Matrix\n"
     ]
    },
    {
     "data": {
      "text/plain": [
       "<sklearn.metrics._plot.confusion_matrix.ConfusionMatrixDisplay at 0x28240ed4978>"
      ]
     },
     "execution_count": 24,
     "metadata": {},
     "output_type": "execute_result"
    },
    {
     "data": {
      "image/png": "[encoded data removed]",
      "text/plain": [
       "<Figure size 432x288 with 2 Axes>"
      ]
     },
     "metadata": {
      "needs_background": "light"
     },
     "output_type": "display_data"
    }
   ],
   "source": [
    "y_val_predict = model.predict(x_val)\n",
    "print(\"Model Train F1:\", f1_score(y_train, model.predict(x_train)))\n",
    "print(\"Model Validation F1:\", f1_score(y_val, y_val_predict))\n",
    "print('---------------------------------------------')\n",
    "y_test_predict_grid = model.predict(x_test)\n",
    "print(\"Model Test F1:\", f1_score(y_test, y_test_predict_grid))\n",
    "print('Model Classification Report')\n",
    "print(classification_report(y_test, y_test_predict_grid))\n",
    "print('---------------------------------------------')\n",
    "print('Model Confusion Matrix')\n",
    "ConfusionMatrixDisplay(confusion_matrix(y_test,y_test_predict_grid,normalize='pred'),display_labels=['No Churn','Churn']).plot()"
   ]
  },
  {
   "cell_type": "markdown",
   "metadata": {},
   "source": [
    "# 4.0 Predict e file di output\n",
    "\n",
    "Genero il file csv per la subssion sul sito."
   ]
  },
  {
   "cell_type": "code",
   "execution_count": 25,
   "metadata": {},
   "outputs": [],
   "source": [
    "# test_f['pred'] = model.predict(test_f[x_test.columns])\n",
    "# ris = test_f['pred'].astype(int)\n",
    "# ris.to_csv('sub.csv',index=False,header=False)"
   ]
  },
  {
   "cell_type": "markdown",
   "metadata": {},
   "source": [
    "Ulteriori info:\n",
    "    \n",
    "Nei test effettuati ho provato:\n",
    "- varie tipologie di riscalature (beta, logaritmica)\n",
    "- varie tipologie di tecniche di riempimento dei buchi (MICE, KNN)\n",
    "- varie tipologie di ribilanciamento delle classi\n",
    "- varie tipologie di tecniche di selezione delle features per il classificatore (su tutte ho guardato le distribuzioni delle features tra i due gruppi per individuare quali features presentavano maggiori differenze)\n",
    "\n",
    "con risultati (al momento scadenti). "
   ]
  },
  {
   "cell_type": "code",
   "execution_count": null,
   "metadata": {},
   "outputs": [],
   "source": []
  }
 ],
 "metadata": {
  "kernelspec": {
   "display_name": "Python 3.7.3 64-bit",
   "language": "python",
   "name": "python37364bitf15ffc4a8398405aa0d2ca018641a255"
  },
  "language_info": {
   "codemirror_mode": {
    "name": "ipython",
    "version": 3
   },
   "file_extension": ".py",
   "mimetype": "text/x-python",
   "name": "python",
   "nbconvert_exporter": "python",
   "pygments_lexer": "ipython3",
   "version": "3.7.3"
  }
 },
 "nbformat": 4,
 "nbformat_minor": 4
}
